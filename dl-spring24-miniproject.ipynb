{
 "cells": [
  {
   "cell_type": "markdown",
   "id": "b12d672a",
   "metadata": {
    "id": "M-lignuSrSYI",
    "papermill": {
     "duration": 0.006666,
     "end_time": "2024-04-13T04:57:20.026557",
     "exception": false,
     "start_time": "2024-04-13T04:57:20.019891",
     "status": "completed"
    },
    "tags": []
   },
   "source": [
    "## Deep Learning Spring 24 - Mini Project\n",
    "Image classification on CIFAR-10 dataset with ResNet (parameters<5 million)"
   ]
  },
  {
   "cell_type": "code",
   "execution_count": 1,
   "id": "81a894d8",
   "metadata": {
    "_cell_guid": "b1076dfc-b9ad-4769-8c92-a6c4dae69d19",
    "_uuid": "8f2839f25d086af736a60e9eeb907d3b93b6e0e5",
    "execution": {
     "iopub.execute_input": "2024-04-13T04:57:20.040576Z",
     "iopub.status.busy": "2024-04-13T04:57:20.039894Z",
     "iopub.status.idle": "2024-04-13T04:57:20.792833Z",
     "shell.execute_reply": "2024-04-13T04:57:20.791911Z"
    },
    "id": "3ddcdd33",
    "outputId": "25c7bad0-2271-44cf-fdb0-3104b0774946",
    "papermill": {
     "duration": 0.762325,
     "end_time": "2024-04-13T04:57:20.795040",
     "exception": false,
     "start_time": "2024-04-13T04:57:20.032715",
     "status": "completed"
    },
    "tags": []
   },
   "outputs": [
    {
     "name": "stdout",
     "output_type": "stream",
     "text": [
      "/kaggle/input/cifar-test-competition/cifar_test_nolabels.pkl\n",
      "/kaggle/input/deep-learning-mini-project-spring-24-nyu/cifar_test_nolabels.pkl\n",
      "/kaggle/input/deep-learning-mini-project-spring-24-nyu/cifar-10-python/cifar-10-batches-py/data_batch_1\n",
      "/kaggle/input/deep-learning-mini-project-spring-24-nyu/cifar-10-python/cifar-10-batches-py/data_batch_2\n",
      "/kaggle/input/deep-learning-mini-project-spring-24-nyu/cifar-10-python/cifar-10-batches-py/batches.meta\n",
      "/kaggle/input/deep-learning-mini-project-spring-24-nyu/cifar-10-python/cifar-10-batches-py/test_batch\n",
      "/kaggle/input/deep-learning-mini-project-spring-24-nyu/cifar-10-python/cifar-10-batches-py/data_batch_3\n",
      "/kaggle/input/deep-learning-mini-project-spring-24-nyu/cifar-10-python/cifar-10-batches-py/data_batch_5\n",
      "/kaggle/input/deep-learning-mini-project-spring-24-nyu/cifar-10-python/cifar-10-batches-py/data_batch_4\n",
      "/kaggle/input/deep-learning-mini-project-spring-24-nyu/cifar-10-python/cifar-10-batches-py/readme.html\n"
     ]
    }
   ],
   "source": [
    "# This Python 3 environment comes with many helpful analytics libraries installed\n",
    "# It is defined by the kaggle/python Docker image: https://github.com/kaggle/docker-python\n",
    "# For example, here's several helpful packages to load\n",
    "\n",
    "import numpy as np # linear algebra\n",
    "import pandas as pd # data processing, CSV file I/O (e.g. pd.read_csv)\n",
    "\n",
    "# Input data files are available in the read-only \"../input/\" directory\n",
    "# For example, running this (by clicking run or pressing Shift+Enter) will list all files under the input directory\n",
    "\n",
    "import os\n",
    "for dirname, _, filenames in os.walk('/kaggle/input/'):\n",
    "    for filename in filenames:\n",
    "        print(os.path.join(dirname, filename))\n",
    "\n",
    "# You can write up to 20GB to the current directory (/kaggle/working/) that gets preserved as output when you create a version using \"Save & Run All\"\n",
    "# You can also write temporary files to /kaggle/temp/, but they won't be saved outside of the current session"
   ]
  },
  {
   "cell_type": "markdown",
   "id": "9593a9c7",
   "metadata": {
    "id": "Wy4XsQYhrlkM",
    "papermill": {
     "duration": 0.006034,
     "end_time": "2024-04-13T04:57:20.807524",
     "exception": false,
     "start_time": "2024-04-13T04:57:20.801490",
     "status": "completed"
    },
    "tags": []
   },
   "source": [
    "## Environment Prep\n",
    "Load required libraries, check for GPU"
   ]
  },
  {
   "cell_type": "code",
   "execution_count": 2,
   "id": "8d200b1c",
   "metadata": {
    "execution": {
     "iopub.execute_input": "2024-04-13T04:57:20.821324Z",
     "iopub.status.busy": "2024-04-13T04:57:20.820614Z",
     "iopub.status.idle": "2024-04-13T04:57:37.686683Z",
     "shell.execute_reply": "2024-04-13T04:57:37.685430Z"
    },
    "id": "47733da0",
    "outputId": "48bc9ee2-a115-4b04-a732-90918975415b",
    "papermill": {
     "duration": 16.875356,
     "end_time": "2024-04-13T04:57:37.688923",
     "exception": false,
     "start_time": "2024-04-13T04:57:20.813567",
     "status": "completed"
    },
    "tags": []
   },
   "outputs": [
    {
     "name": "stdout",
     "output_type": "stream",
     "text": [
      "Requirement already satisfied: torchinfo in /opt/conda/lib/python3.10/site-packages (1.8.0)\r\n",
      "CUDA is available!  Training on GPU ...\n"
     ]
    }
   ],
   "source": [
    "import torch\n",
    "import numpy as np\n",
    "!pip install torchinfo\n",
    "\n",
    "# check if CUDA is available\n",
    "train_on_gpu = torch.cuda.is_available()\n",
    "\n",
    "if not train_on_gpu:\n",
    "  print('CUDA is not available.  Training on CPU ...')\n",
    "else:\n",
    "  print('CUDA is available!  Training on GPU ...')"
   ]
  },
  {
   "cell_type": "markdown",
   "id": "63cfc089",
   "metadata": {
    "id": "CzocI3qNrs7h",
    "papermill": {
     "duration": 0.006277,
     "end_time": "2024-04-13T04:57:37.702118",
     "exception": false,
     "start_time": "2024-04-13T04:57:37.695841",
     "status": "completed"
    },
    "tags": []
   },
   "source": [
    "## Data Management\n",
    "Load kaggle datasets into torch Dataset objects.<br>\n",
    "Combine all 5 batches into one for training<br>\n",
    "Load CIFAR-10 test dataset<br>\n",
    "Load test dataset (test_no_labels.pkl)<br>\n",
    "Transform training dataset with horizontal flip, random crop and normalization<br>\n",
    "Transform test dataset with normalization<br>\n",
    "Split training set into train and validation sets<br>\n",
    "\n"
   ]
  },
  {
   "cell_type": "code",
   "execution_count": 3,
   "id": "cf38b559",
   "metadata": {
    "execution": {
     "iopub.execute_input": "2024-04-13T04:57:37.717491Z",
     "iopub.status.busy": "2024-04-13T04:57:37.716829Z",
     "iopub.status.idle": "2024-04-13T04:57:42.728203Z",
     "shell.execute_reply": "2024-04-13T04:57:42.727252Z"
    },
    "id": "0f61d16a",
    "outputId": "46c78db1-c642-42b5-d98a-08e59a88a6a1",
    "papermill": {
     "duration": 5.021655,
     "end_time": "2024-04-13T04:57:42.730336",
     "exception": false,
     "start_time": "2024-04-13T04:57:37.708681",
     "status": "completed"
    },
    "tags": []
   },
   "outputs": [
    {
     "name": "stdout",
     "output_type": "stream",
     "text": [
      "{b'data': array([[133, 136, 136, ..., 226, 225, 224],\n",
      "       [160, 177, 176, ...,  89,  89,  88],\n",
      "       [255, 255, 255, ..., 211, 213, 215],\n",
      "       ...,\n",
      "       [ 29,  29,  45, ..., 156, 155, 154],\n",
      "       [124, 123, 126, ...,  49,  49,  51],\n",
      "       [255, 255, 255, ..., 250, 251, 255]], dtype=uint8), b'ids': array([   0,    1,    2, ..., 9997, 9998, 9999])}\n",
      "==> Preparing data..\n"
     ]
    }
   ],
   "source": [
    "import numpy as np\n",
    "import matplotlib.pyplot as plt\n",
    "import os\n",
    "import pickle\n",
    "from PIL import Image\n",
    "from torch.utils.data import Dataset, DataLoader\n",
    "import torchvision.transforms as transforms\n",
    "from torch.utils.data.sampler import SubsetRandomSampler\n",
    "from torchinfo import summary\n",
    "\n",
    "d1=[]\n",
    "l1=[]\n",
    "d2=[]\n",
    "l2=[]\n",
    "id2=[]\n",
    "d3 = []\n",
    "l3 = []\n",
    "cifar10_dir = '/kaggle/input/deep-learning-mini-project-spring-24-nyu/cifar-10-python/cifar-10-batches-py'\n",
    "with open(os.path.join(cifar10_dir,'data_batch_1'),'rb') as f:\n",
    "    entry=pickle.load(f, encoding=\"latin1\")\n",
    "    d1.append(entry[\"data\"])\n",
    "    if \"labels\" in entry:\n",
    "        l1.extend(entry[\"labels\"])\n",
    "with open(os.path.join(cifar10_dir,'data_batch_2'),'rb') as f:\n",
    "    entry=pickle.load(f, encoding=\"latin1\")\n",
    "    d1.append(entry[\"data\"])\n",
    "    if \"labels\" in entry:\n",
    "        l1.extend(entry[\"labels\"])\n",
    "\n",
    "with open(os.path.join(cifar10_dir,'data_batch_3'),'rb') as f:\n",
    "    entry=pickle.load(f, encoding=\"latin1\")\n",
    "    d1.append(entry[\"data\"])\n",
    "    if \"labels\" in entry:\n",
    "        l1.extend(entry[\"labels\"])\n",
    "\n",
    "with open(os.path.join(cifar10_dir,'data_batch_4'),'rb') as f:\n",
    "    entry=pickle.load(f, encoding=\"latin1\")\n",
    "    d1.append(entry[\"data\"])\n",
    "    if \"labels\" in entry:\n",
    "        l1.extend(entry[\"labels\"])\n",
    "with open(os.path.join(cifar10_dir,'data_batch_5'),'rb') as f:\n",
    "    entry=pickle.load(f, encoding=\"latin1\")\n",
    "    d1.append(entry[\"data\"])\n",
    "    if \"labels\" in entry:\n",
    "        l1.extend(entry[\"labels\"])\n",
    "d1=np.vstack(d1).reshape(-1,3,32,32)\n",
    "d1=d1.transpose((0,2,3,1))\n",
    "\n",
    "with open(os.path.join(cifar10_dir,'test_batch'),'rb') as f:\n",
    "    entry=pickle.load(f, encoding=\"latin1\")\n",
    "    d3.append(entry[\"data\"])\n",
    "    if \"labels\" in entry:\n",
    "        l3.extend(entry[\"labels\"])\n",
    "d3=np.vstack(d3).reshape(-1,3,32,32)\n",
    "d3=d3.transpose((0,2,3,1))\n",
    "\n",
    "with open('/kaggle/input/deep-learning-mini-project-spring-24-nyu/cifar_test_nolabels.pkl','rb') as f:\n",
    "    entry=pickle.load(f, encoding=\"latin1\")\n",
    "    print(entry)\n",
    "    d2.extend(entry[b'data'])\n",
    "    id2.extend(entry[b'ids'])\n",
    "    if \"labels\" in entry:\n",
    "        l2.extend(entry[\"labels\"])\n",
    "l2.extend(id2)\n",
    "d2=np.vstack(d2).reshape(-1,3,32,32)\n",
    "d2=d2.transpose((0,2,3,1))\n",
    "\n",
    "\n",
    "class CIFARDataset(Dataset):\n",
    "\n",
    "    def __init__(self, X_Train, Y_Train, transform=None):\n",
    "        self.data = X_Train\n",
    "        self.targets = Y_Train\n",
    "        self.transform = transform\n",
    "\n",
    "    def __len__(self):\n",
    "        return len(self.data)\n",
    "\n",
    "    def __getitem__(self, index: int):\n",
    "        img, target = self.data[index], self.targets[index]\n",
    "        img = Image.fromarray(img)\n",
    "        if self.transform is not None:\n",
    "            img = self.transform(img)\n",
    "        return img, target\n",
    "\n",
    "# number of subprocesses to use for data loading\n",
    "num_workers = 0\n",
    "# how many samples per batch to load\n",
    "batch_size = 20\n",
    "# percentage of training set to use as validation\n",
    "valid_size = 0.2\n",
    "\n",
    "# convert data to a normalized torch.FloatTensor\n",
    "print('==> Preparing data..')\n",
    "#Image augmentation is used to train the model\n",
    "transform_train = transforms.Compose([\n",
    "    transforms.RandomCrop(32, padding=4),\n",
    "    transforms.RandomHorizontalFlip(),\n",
    "    transforms.ToTensor(),\n",
    "    transforms.Normalize((0.4914, 0.4822, 0.4465), (0.2023, 0.1994, 0.2010)),\n",
    "])\n",
    "#(0.4914, 0.4822, 0.4465), (0.2023, 0.1994, 0.2010)\n",
    "\n",
    "#Only the data is normalaized, we do not need to augment the test data\n",
    "transform_test = transforms.Compose([\n",
    "    transforms.ToTensor(),\n",
    "    transforms.Normalize((0.4914, 0.4822, 0.4465), (0.2023, 0.1994, 0.2010)),\n",
    "])\n",
    "\n",
    "train_data = CIFARDataset(d1,l1,transform_train)\n",
    "test_data = CIFARDataset(d3, l3, transform_test)\n",
    "actual_test_data = CIFARDataset(d2,l2,transform_test)\n",
    "num_train = len(train_data)\n",
    "indices = list(range(num_train))\n",
    "np.random.shuffle(indices)\n",
    "split = int(np.floor(valid_size * num_train))\n",
    "train_idx, valid_idx = indices[split:], indices[:split]\n",
    "train_sampler = SubsetRandomSampler(train_idx)\n",
    "valid_sampler = SubsetRandomSampler(valid_idx)\n",
    "\n",
    "# prepare data loaders (combine dataset and sampler)\n",
    "train_loader = torch.utils.data.DataLoader(train_data, batch_size=batch_size,\n",
    "    sampler=train_sampler, num_workers=num_workers)\n",
    "valid_loader = torch.utils.data.DataLoader(train_data, batch_size=batch_size,\n",
    "    sampler=valid_sampler, num_workers=num_workers)\n",
    "test_loader = torch.utils.data.DataLoader(test_data, batch_size=batch_size,\n",
    "    num_workers=num_workers)\n",
    "actual_test_loader = torch.utils.data.DataLoader(actual_test_data, batch_size=batch_size,\n",
    "    num_workers=num_workers)\n",
    "\n",
    "# specify the image classes\n",
    "classes = ['airplane', 'automobile', 'bird', 'cat', 'deer',\n",
    "           'dog', 'frog', 'horse', 'ship', 'truck']\n",
    "\n"
   ]
  },
  {
   "cell_type": "markdown",
   "id": "e9670efb",
   "metadata": {
    "id": "DBvsk9sYuOt3",
    "papermill": {
     "duration": 0.006523,
     "end_time": "2024-04-13T04:57:42.743581",
     "exception": false,
     "start_time": "2024-04-13T04:57:42.737058",
     "status": "completed"
    },
    "tags": []
   },
   "source": [
    "## Visualize a few images"
   ]
  },
  {
   "cell_type": "code",
   "execution_count": 4,
   "id": "634863fd",
   "metadata": {
    "execution": {
     "iopub.execute_input": "2024-04-13T04:57:42.757592Z",
     "iopub.status.busy": "2024-04-13T04:57:42.757184Z",
     "iopub.status.idle": "2024-04-13T04:57:44.075494Z",
     "shell.execute_reply": "2024-04-13T04:57:44.074380Z"
    },
    "id": "a6e75df1",
    "outputId": "6e6f84dc-91a1-4ff9-c942-a086195966de",
    "papermill": {
     "duration": 1.328076,
     "end_time": "2024-04-13T04:57:44.077969",
     "exception": false,
     "start_time": "2024-04-13T04:57:42.749893",
     "status": "completed"
    },
    "tags": []
   },
   "outputs": [
    {
     "data": {
      "image/png": "[encoded data removed]",
      "text/plain": [
       "<Figure size 2500x400 with 20 Axes>"
      ]
     },
     "metadata": {},
     "output_type": "display_data"
    }
   ],
   "source": [
    "import matplotlib.pyplot as plt\n",
    "%matplotlib inline\n",
    "\n",
    "# helper function to un-normalize and display an image\n",
    "def imshow(img):\n",
    "  img = img / 2 + 0.5  # unnormalize\n",
    "  plt.imshow(np.transpose(img, (1, 2, 0)))  # convert from Tensor image\n",
    "\n",
    "# obtain one batch of training images\n",
    "dataiter = iter(train_loader)\n",
    "images, labels = next(dataiter)\n",
    "images = images.numpy() # convert images to numpy for display\n",
    "\n",
    "# plot the images in the batch, along with the corresponding labels\n",
    "fig = plt.figure(figsize=(25, 4))\n",
    "# display 20 images\n",
    "for idx in np.arange(20):\n",
    "  ax = fig.add_subplot(2, 10, idx+1, xticks=[], yticks=[])\n",
    "  imshow(images[idx])\n",
    "  ax.set_title(classes[labels[idx]])"
   ]
  },
  {
   "cell_type": "markdown",
   "id": "2f19dc07",
   "metadata": {
    "id": "TT6FqByDuSvE",
    "papermill": {
     "duration": 0.007316,
     "end_time": "2024-04-13T04:57:44.093004",
     "exception": false,
     "start_time": "2024-04-13T04:57:44.085688",
     "status": "completed"
    },
    "tags": []
   },
   "source": [
    "## ResNet Definition\n",
    "Define a resnet block as two convolution layers with batch normalization and ReLu activation. Add a skip connection to each block. <br>\n",
    "Define the ResNet as 3 layers of blocks with 64,128 and 256 slices.<br>\n",
    "Last layer of ResNet - Pooling and Dense layer"
   ]
  },
  {
   "cell_type": "code",
   "execution_count": 5,
   "id": "741807fa",
   "metadata": {
    "execution": {
     "iopub.execute_input": "2024-04-13T04:57:44.110084Z",
     "iopub.status.busy": "2024-04-13T04:57:44.109791Z",
     "iopub.status.idle": "2024-04-13T04:57:44.316454Z",
     "shell.execute_reply": "2024-04-13T04:57:44.315467Z"
    },
    "id": "e4a0cc41",
    "outputId": "28505b02-fee4-4119-fafb-1750acc5e2d9",
    "papermill": {
     "duration": 0.218405,
     "end_time": "2024-04-13T04:57:44.318742",
     "exception": false,
     "start_time": "2024-04-13T04:57:44.100337",
     "status": "completed"
    },
    "tags": []
   },
   "outputs": [
    {
     "name": "stdout",
     "output_type": "stream",
     "text": [
      "ResNet(\n",
      "  (conv1): Conv2d(3, 64, kernel_size=(3, 3), stride=(1, 1), padding=(1, 1), bias=False)\n",
      "  (bn1): BatchNorm2d(64, eps=1e-05, momentum=0.1, affine=True, track_running_stats=True)\n",
      "  (layer1): Sequential(\n",
      "    (0): BasicBlock(\n",
      "      (conv1): Conv2d(64, 64, kernel_size=(3, 3), stride=(1, 1), padding=(1, 1), bias=False)\n",
      "      (bn1): BatchNorm2d(64, eps=1e-05, momentum=0.1, affine=True, track_running_stats=True)\n",
      "      (conv2): Conv2d(64, 64, kernel_size=(3, 3), stride=(1, 1), padding=(1, 1), bias=False)\n",
      "      (bn2): BatchNorm2d(64, eps=1e-05, momentum=0.1, affine=True, track_running_stats=True)\n",
      "      (shortcut): Sequential()\n",
      "    )\n",
      "    (1): BasicBlock(\n",
      "      (conv1): Conv2d(64, 64, kernel_size=(3, 3), stride=(1, 1), padding=(1, 1), bias=False)\n",
      "      (bn1): BatchNorm2d(64, eps=1e-05, momentum=0.1, affine=True, track_running_stats=True)\n",
      "      (conv2): Conv2d(64, 64, kernel_size=(3, 3), stride=(1, 1), padding=(1, 1), bias=False)\n",
      "      (bn2): BatchNorm2d(64, eps=1e-05, momentum=0.1, affine=True, track_running_stats=True)\n",
      "      (shortcut): Sequential()\n",
      "    )\n",
      "  )\n",
      "  (layer2): Sequential(\n",
      "    (0): BasicBlock(\n",
      "      (conv1): Conv2d(64, 128, kernel_size=(3, 3), stride=(2, 2), padding=(1, 1), bias=False)\n",
      "      (bn1): BatchNorm2d(128, eps=1e-05, momentum=0.1, affine=True, track_running_stats=True)\n",
      "      (conv2): Conv2d(128, 128, kernel_size=(3, 3), stride=(1, 1), padding=(1, 1), bias=False)\n",
      "      (bn2): BatchNorm2d(128, eps=1e-05, momentum=0.1, affine=True, track_running_stats=True)\n",
      "      (shortcut): Sequential(\n",
      "        (0): Conv2d(64, 128, kernel_size=(1, 1), stride=(2, 2), bias=False)\n",
      "        (1): BatchNorm2d(128, eps=1e-05, momentum=0.1, affine=True, track_running_stats=True)\n",
      "      )\n",
      "    )\n",
      "    (1): BasicBlock(\n",
      "      (conv1): Conv2d(128, 128, kernel_size=(3, 3), stride=(1, 1), padding=(1, 1), bias=False)\n",
      "      (bn1): BatchNorm2d(128, eps=1e-05, momentum=0.1, affine=True, track_running_stats=True)\n",
      "      (conv2): Conv2d(128, 128, kernel_size=(3, 3), stride=(1, 1), padding=(1, 1), bias=False)\n",
      "      (bn2): BatchNorm2d(128, eps=1e-05, momentum=0.1, affine=True, track_running_stats=True)\n",
      "      (shortcut): Sequential()\n",
      "    )\n",
      "  )\n",
      "  (layer3): Sequential(\n",
      "    (0): BasicBlock(\n",
      "      (conv1): Conv2d(128, 256, kernel_size=(3, 3), stride=(2, 2), padding=(1, 1), bias=False)\n",
      "      (bn1): BatchNorm2d(256, eps=1e-05, momentum=0.1, affine=True, track_running_stats=True)\n",
      "      (conv2): Conv2d(256, 256, kernel_size=(3, 3), stride=(1, 1), padding=(1, 1), bias=False)\n",
      "      (bn2): BatchNorm2d(256, eps=1e-05, momentum=0.1, affine=True, track_running_stats=True)\n",
      "      (shortcut): Sequential(\n",
      "        (0): Conv2d(128, 256, kernel_size=(1, 1), stride=(2, 2), bias=False)\n",
      "        (1): BatchNorm2d(256, eps=1e-05, momentum=0.1, affine=True, track_running_stats=True)\n",
      "      )\n",
      "    )\n",
      "    (1): BasicBlock(\n",
      "      (conv1): Conv2d(256, 256, kernel_size=(3, 3), stride=(1, 1), padding=(1, 1), bias=False)\n",
      "      (bn1): BatchNorm2d(256, eps=1e-05, momentum=0.1, affine=True, track_running_stats=True)\n",
      "      (conv2): Conv2d(256, 256, kernel_size=(3, 3), stride=(1, 1), padding=(1, 1), bias=False)\n",
      "      (bn2): BatchNorm2d(256, eps=1e-05, momentum=0.1, affine=True, track_running_stats=True)\n",
      "      (shortcut): Sequential()\n",
      "    )\n",
      "  )\n",
      "  (linear): Linear(in_features=1024, out_features=10, bias=True)\n",
      ")\n"
     ]
    }
   ],
   "source": [
    "import torch.backends.cudnn as cudnn\n",
    "import torch.nn as nn\n",
    "import torch.nn.functional as F\n",
    "\n",
    "#Residual block definition\n",
    "class BasicBlock(nn.Module):\n",
    "  expansion = 1\n",
    "  def __init__(self, in_planes, planes, stride=1):\n",
    "    super(BasicBlock, self).__init__()\n",
    "    self.conv1 = nn.Conv2d(in_planes, planes, kernel_size=3, stride=stride, padding=1, bias=False)\n",
    "    self.bn1 = nn.BatchNorm2d(planes)\n",
    "    self.conv2 = nn.Conv2d(planes, planes, kernel_size=3, stride=1, padding=1, bias=False)\n",
    "    self.bn2 = nn.BatchNorm2d(planes)\n",
    "    #Skip connection definition\n",
    "    self.shortcut = nn.Sequential()\n",
    "    if stride != 1 or in_planes != self.expansion*planes:\n",
    "      self.shortcut = nn.Sequential(\n",
    "          nn.Conv2d(in_planes, self.expansion*planes, kernel_size=1, stride=stride, bias=False),\n",
    "          nn.BatchNorm2d(self.expansion*planes)\n",
    "      )\n",
    "\n",
    "  def forward(self, x):\n",
    "    out = F.relu(self.bn1(self.conv1(x)))\n",
    "    out = self.bn2(self.conv2(out))\n",
    "    out += self.shortcut(x)\n",
    "    out = F.relu(out)\n",
    "    return out\n",
    "\n",
    "\n",
    "\n",
    "class ResNet(nn.Module):\n",
    "  def __init__(self, block, num_blocks, num_classes=10):\n",
    "    super(ResNet, self).__init__()\n",
    "    self.in_planes = 64\n",
    "\n",
    "    self.conv1 = nn.Conv2d(3, 64, kernel_size=3, stride=1, padding=1, bias=False)\n",
    "    self.bn1 = nn.BatchNorm2d(64)\n",
    "    # 3 layers of residual blocks\n",
    "    self.layer1 = self._make_layer(block, 64, num_blocks[0], stride=1)\n",
    "    self.layer2 = self._make_layer(block, 128, num_blocks[1], stride=2)\n",
    "    self.layer3 = self._make_layer(block, 256, num_blocks[2], stride=2)\n",
    "    self.linear = nn.Linear(1024*block.expansion, num_classes)\n",
    "\n",
    "  def _make_layer(self, block, planes, num_blocks, stride):\n",
    "    strides = [stride] + [1]*(num_blocks-1)\n",
    "    layers = []\n",
    "    for stride in strides:\n",
    "      layers.append(block(self.in_planes, planes, stride))\n",
    "      self.in_planes = planes * block.expansion\n",
    "    return nn.Sequential(*layers)\n",
    "\n",
    "  def forward(self, x):\n",
    "    out = F.relu(self.bn1(self.conv1(x)))\n",
    "    out = self.layer1(out)\n",
    "    out = self.layer2(out)\n",
    "    out = self.layer3(out)\n",
    "    # Average Pooling\n",
    "    out = F.avg_pool2d(out, 4)\n",
    "    out = out.view(out.size(0), -1)\n",
    "    # Dense Layer\n",
    "    out = self.linear(out)\n",
    "    return out\n",
    "\n",
    "#Two layers each of resnet blocks\n",
    "ResNet18 = ResNet(BasicBlock, [2,2,2])\n",
    "\n",
    "\n",
    "print(ResNet18)\n",
    "\n",
    "if train_on_gpu:\n",
    "  ResNet18 = torch.nn.DataParallel(ResNet18)\n",
    "  cudnn.benchmark = True"
   ]
  },
  {
   "cell_type": "markdown",
   "id": "20102760",
   "metadata": {
    "id": "CKcoYseZu9m8",
    "papermill": {
     "duration": 0.007714,
     "end_time": "2024-04-13T04:57:44.334720",
     "exception": false,
     "start_time": "2024-04-13T04:57:44.327006",
     "status": "completed"
    },
    "tags": []
   },
   "source": [
    "## Resnet parameters and structure"
   ]
  },
  {
   "cell_type": "code",
   "execution_count": 6,
   "id": "da7292fb",
   "metadata": {
    "execution": {
     "iopub.execute_input": "2024-04-13T04:57:44.351942Z",
     "iopub.status.busy": "2024-04-13T04:57:44.351138Z",
     "iopub.status.idle": "2024-04-13T04:57:44.362154Z",
     "shell.execute_reply": "2024-04-13T04:57:44.361268Z"
    },
    "id": "8e2b68a3",
    "outputId": "c87fa0d7-8b94-4529-91ae-0f32692a1bb6",
    "papermill": {
     "duration": 0.021403,
     "end_time": "2024-04-13T04:57:44.364066",
     "exception": false,
     "start_time": "2024-04-13T04:57:44.342663",
     "status": "completed"
    },
    "tags": []
   },
   "outputs": [
    {
     "data": {
      "text/plain": [
       "======================================================================\n",
       "Layer (type:depth-idx)                        Param #\n",
       "======================================================================\n",
       "DataParallel                                  --\n",
       "├─ResNet: 1-1                                 --\n",
       "│    └─Conv2d: 2-1                            1,728\n",
       "│    └─BatchNorm2d: 2-2                       128\n",
       "│    └─Sequential: 2-3                        --\n",
       "│    │    └─BasicBlock: 3-1                   73,984\n",
       "│    │    └─BasicBlock: 3-2                   73,984\n",
       "│    └─Sequential: 2-4                        --\n",
       "│    │    └─BasicBlock: 3-3                   230,144\n",
       "│    │    └─BasicBlock: 3-4                   295,424\n",
       "│    └─Sequential: 2-5                        --\n",
       "│    │    └─BasicBlock: 3-5                   919,040\n",
       "│    │    └─BasicBlock: 3-6                   1,180,672\n",
       "│    └─Linear: 2-6                            10,250\n",
       "======================================================================\n",
       "Total params: 2,785,354\n",
       "Trainable params: 2,785,354\n",
       "Non-trainable params: 0\n",
       "======================================================================"
      ]
     },
     "execution_count": 6,
     "metadata": {},
     "output_type": "execute_result"
    }
   ],
   "source": [
    "summary(ResNet18)"
   ]
  },
  {
   "cell_type": "markdown",
   "id": "8de577be",
   "metadata": {
    "id": "j2HbwHoTvCDh",
    "papermill": {
     "duration": 0.007591,
     "end_time": "2024-04-13T04:57:44.379595",
     "exception": false,
     "start_time": "2024-04-13T04:57:44.372004",
     "status": "completed"
    },
    "tags": []
   },
   "source": [
    "## Loss and Optimizer\n",
    "Cross entropy loss chosen. SGD for optimizer with learning rate 0.01."
   ]
  },
  {
   "cell_type": "code",
   "execution_count": 7,
   "id": "1d6dc459",
   "metadata": {
    "execution": {
     "iopub.execute_input": "2024-04-13T04:57:44.396668Z",
     "iopub.status.busy": "2024-04-13T04:57:44.396383Z",
     "iopub.status.idle": "2024-04-13T04:57:44.401482Z",
     "shell.execute_reply": "2024-04-13T04:57:44.400553Z"
    },
    "id": "97ebb4f0",
    "papermill": {
     "duration": 0.015843,
     "end_time": "2024-04-13T04:57:44.403393",
     "exception": false,
     "start_time": "2024-04-13T04:57:44.387550",
     "status": "completed"
    },
    "tags": []
   },
   "outputs": [],
   "source": [
    "import torch.optim as optim\n",
    "# specify loss function (categorical cross-entropy)\n",
    "criterion = nn.CrossEntropyLoss()\n",
    "\n",
    "# specify optimizer\n",
    "optimizer = optim.SGD(ResNet18.parameters(), lr=0.01, momentum=0.9, weight_decay=0.0001)"
   ]
  },
  {
   "cell_type": "markdown",
   "id": "340fc2d3",
   "metadata": {
    "id": "pU9_dEUqvKd9",
    "papermill": {
     "duration": 0.007778,
     "end_time": "2024-04-13T04:57:44.418912",
     "exception": false,
     "start_time": "2024-04-13T04:57:44.411134",
     "status": "completed"
    },
    "tags": []
   },
   "source": [
    "## Training and validation\n",
    "Perform 100 epochs of training, each with mini batches of 20 samples. Validate on the validation set to obtain model with least loss. Store the best model."
   ]
  },
  {
   "cell_type": "code",
   "execution_count": 8,
   "id": "40e78500",
   "metadata": {
    "execution": {
     "iopub.execute_input": "2024-04-13T04:57:44.436032Z",
     "iopub.status.busy": "2024-04-13T04:57:44.435754Z",
     "iopub.status.idle": "2024-04-13T06:05:44.014416Z",
     "shell.execute_reply": "2024-04-13T06:05:44.013413Z"
    },
    "id": "d216a34e",
    "outputId": "63f9071b-f1d6-4015-dda5-60e6b9ddfb64",
    "papermill": {
     "duration": 4079.604661,
     "end_time": "2024-04-13T06:05:44.031562",
     "exception": false,
     "start_time": "2024-04-13T04:57:44.426901",
     "status": "completed"
    },
    "tags": []
   },
   "outputs": [
    {
     "name": "stdout",
     "output_type": "stream",
     "text": [
      "Epoch: 1 \tTraining Loss: 1.636718 \tValidation Loss: 1.319915\n",
      "Validation loss decreased (inf --> 1.319915).  Saving model ...\n",
      "Epoch: 2 \tTraining Loss: 1.144509 \tValidation Loss: 0.994525\n",
      "Validation loss decreased (1.319915 --> 0.994525).  Saving model ...\n",
      "Epoch: 3 \tTraining Loss: 0.891990 \tValidation Loss: 0.821210\n",
      "Validation loss decreased (0.994525 --> 0.821210).  Saving model ...\n",
      "Epoch: 4 \tTraining Loss: 0.747346 \tValidation Loss: 0.793571\n",
      "Validation loss decreased (0.821210 --> 0.793571).  Saving model ...\n",
      "Epoch: 5 \tTraining Loss: 0.647796 \tValidation Loss: 0.591213\n",
      "Validation loss decreased (0.793571 --> 0.591213).  Saving model ...\n",
      "Epoch: 6 \tTraining Loss: 0.568146 \tValidation Loss: 0.586535\n",
      "Validation loss decreased (0.591213 --> 0.586535).  Saving model ...\n",
      "Epoch: 7 \tTraining Loss: 0.515659 \tValidation Loss: 0.508075\n",
      "Validation loss decreased (0.586535 --> 0.508075).  Saving model ...\n",
      "Epoch: 8 \tTraining Loss: 0.466743 \tValidation Loss: 0.460376\n",
      "Validation loss decreased (0.508075 --> 0.460376).  Saving model ...\n",
      "Epoch: 9 \tTraining Loss: 0.422017 \tValidation Loss: 0.466343\n",
      "Epoch: 10 \tTraining Loss: 0.391204 \tValidation Loss: 0.425294\n",
      "Validation loss decreased (0.460376 --> 0.425294).  Saving model ...\n",
      "Epoch: 11 \tTraining Loss: 0.361874 \tValidation Loss: 0.416383\n",
      "Validation loss decreased (0.425294 --> 0.416383).  Saving model ...\n",
      "Epoch: 12 \tTraining Loss: 0.338769 \tValidation Loss: 0.430899\n",
      "Epoch: 13 \tTraining Loss: 0.309438 \tValidation Loss: 0.424371\n",
      "Epoch: 14 \tTraining Loss: 0.293025 \tValidation Loss: 0.388295\n",
      "Validation loss decreased (0.416383 --> 0.388295).  Saving model ...\n",
      "Epoch: 15 \tTraining Loss: 0.271746 \tValidation Loss: 0.394353\n",
      "Epoch: 16 \tTraining Loss: 0.254747 \tValidation Loss: 0.380391\n",
      "Validation loss decreased (0.388295 --> 0.380391).  Saving model ...\n",
      "Epoch: 17 \tTraining Loss: 0.243285 \tValidation Loss: 0.366444\n",
      "Validation loss decreased (0.380391 --> 0.366444).  Saving model ...\n",
      "Epoch: 18 \tTraining Loss: 0.225985 \tValidation Loss: 0.361398\n",
      "Validation loss decreased (0.366444 --> 0.361398).  Saving model ...\n",
      "Epoch: 19 \tTraining Loss: 0.217996 \tValidation Loss: 0.339076\n",
      "Validation loss decreased (0.361398 --> 0.339076).  Saving model ...\n",
      "Epoch: 20 \tTraining Loss: 0.206653 \tValidation Loss: 0.369466\n",
      "Epoch: 21 \tTraining Loss: 0.197921 \tValidation Loss: 0.356062\n",
      "Epoch: 22 \tTraining Loss: 0.183826 \tValidation Loss: 0.336385\n",
      "Validation loss decreased (0.339076 --> 0.336385).  Saving model ...\n",
      "Epoch: 23 \tTraining Loss: 0.173485 \tValidation Loss: 0.361071\n",
      "Epoch: 24 \tTraining Loss: 0.168078 \tValidation Loss: 0.367460\n",
      "Epoch: 25 \tTraining Loss: 0.161809 \tValidation Loss: 0.361223\n",
      "Epoch: 26 \tTraining Loss: 0.151586 \tValidation Loss: 0.370530\n",
      "Epoch: 27 \tTraining Loss: 0.152665 \tValidation Loss: 0.360108\n",
      "Epoch: 28 \tTraining Loss: 0.139683 \tValidation Loss: 0.362089\n",
      "Epoch: 29 \tTraining Loss: 0.140223 \tValidation Loss: 0.364286\n",
      "Epoch: 30 \tTraining Loss: 0.134371 \tValidation Loss: 0.340764\n",
      "Epoch: 31 \tTraining Loss: 0.128551 \tValidation Loss: 0.336460\n",
      "Epoch: 32 \tTraining Loss: 0.121402 \tValidation Loss: 0.414146\n",
      "Epoch: 33 \tTraining Loss: 0.122246 \tValidation Loss: 0.379135\n",
      "Epoch: 34 \tTraining Loss: 0.114388 \tValidation Loss: 0.355119\n",
      "Epoch: 35 \tTraining Loss: 0.113742 \tValidation Loss: 0.343219\n",
      "Epoch: 36 \tTraining Loss: 0.113697 \tValidation Loss: 0.340945\n",
      "Epoch: 37 \tTraining Loss: 0.109167 \tValidation Loss: 0.340633\n",
      "Epoch: 38 \tTraining Loss: 0.111629 \tValidation Loss: 0.332061\n",
      "Validation loss decreased (0.336385 --> 0.332061).  Saving model ...\n",
      "Epoch: 39 \tTraining Loss: 0.108259 \tValidation Loss: 0.354136\n",
      "Epoch: 40 \tTraining Loss: 0.100819 \tValidation Loss: 0.372256\n",
      "Epoch: 41 \tTraining Loss: 0.097535 \tValidation Loss: 0.347072\n",
      "Epoch: 42 \tTraining Loss: 0.094611 \tValidation Loss: 0.354955\n",
      "Epoch: 43 \tTraining Loss: 0.097917 \tValidation Loss: 0.337598\n",
      "Epoch: 44 \tTraining Loss: 0.098437 \tValidation Loss: 0.364665\n",
      "Epoch: 45 \tTraining Loss: 0.091791 \tValidation Loss: 0.372842\n",
      "Epoch: 46 \tTraining Loss: 0.087623 \tValidation Loss: 0.355319\n",
      "Epoch: 47 \tTraining Loss: 0.083422 \tValidation Loss: 0.355355\n",
      "Epoch: 48 \tTraining Loss: 0.092528 \tValidation Loss: 0.383652\n",
      "Epoch: 49 \tTraining Loss: 0.089837 \tValidation Loss: 0.353263\n",
      "Epoch: 50 \tTraining Loss: 0.081063 \tValidation Loss: 0.360817\n",
      "Epoch: 51 \tTraining Loss: 0.081779 \tValidation Loss: 0.360646\n",
      "Epoch: 52 \tTraining Loss: 0.089607 \tValidation Loss: 0.400004\n",
      "Epoch: 53 \tTraining Loss: 0.086323 \tValidation Loss: 0.361061\n",
      "Epoch: 54 \tTraining Loss: 0.079521 \tValidation Loss: 0.331878\n",
      "Validation loss decreased (0.332061 --> 0.331878).  Saving model ...\n",
      "Epoch: 55 \tTraining Loss: 0.080320 \tValidation Loss: 0.364497\n",
      "Epoch: 56 \tTraining Loss: 0.078451 \tValidation Loss: 0.348988\n",
      "Epoch: 57 \tTraining Loss: 0.080328 \tValidation Loss: 0.354289\n",
      "Epoch: 58 \tTraining Loss: 0.081364 \tValidation Loss: 0.365358\n",
      "Epoch: 59 \tTraining Loss: 0.076922 \tValidation Loss: 0.392713\n",
      "Epoch: 60 \tTraining Loss: 0.083236 \tValidation Loss: 0.352618\n",
      "Epoch: 61 \tTraining Loss: 0.074065 \tValidation Loss: 0.385399\n",
      "Epoch: 62 \tTraining Loss: 0.076225 \tValidation Loss: 0.408856\n",
      "Epoch: 63 \tTraining Loss: 0.074582 \tValidation Loss: 0.352349\n",
      "Epoch: 64 \tTraining Loss: 0.072177 \tValidation Loss: 0.354852\n",
      "Epoch: 65 \tTraining Loss: 0.073538 \tValidation Loss: 0.374336\n",
      "Epoch: 66 \tTraining Loss: 0.075153 \tValidation Loss: 0.356741\n",
      "Epoch: 67 \tTraining Loss: 0.075199 \tValidation Loss: 0.309320\n",
      "Validation loss decreased (0.331878 --> 0.309320).  Saving model ...\n",
      "Epoch: 68 \tTraining Loss: 0.071265 \tValidation Loss: 0.355004\n",
      "Epoch: 69 \tTraining Loss: 0.079057 \tValidation Loss: 0.386569\n",
      "Epoch: 70 \tTraining Loss: 0.073877 \tValidation Loss: 0.352182\n",
      "Epoch: 71 \tTraining Loss: 0.075268 \tValidation Loss: 0.382822\n",
      "Epoch: 72 \tTraining Loss: 0.072294 \tValidation Loss: 0.372302\n",
      "Epoch: 73 \tTraining Loss: 0.072858 \tValidation Loss: 0.438718\n",
      "Epoch: 74 \tTraining Loss: 0.068214 \tValidation Loss: 0.347059\n",
      "Epoch: 75 \tTraining Loss: 0.074091 \tValidation Loss: 0.351827\n",
      "Epoch: 76 \tTraining Loss: 0.063081 \tValidation Loss: 0.400825\n",
      "Epoch: 77 \tTraining Loss: 0.070057 \tValidation Loss: 0.326822\n",
      "Epoch: 78 \tTraining Loss: 0.066338 \tValidation Loss: 0.351874\n",
      "Epoch: 79 \tTraining Loss: 0.071061 \tValidation Loss: 0.365817\n",
      "Epoch: 80 \tTraining Loss: 0.068657 \tValidation Loss: 0.368180\n",
      "Epoch: 81 \tTraining Loss: 0.072605 \tValidation Loss: 0.339315\n",
      "Epoch: 82 \tTraining Loss: 0.062481 \tValidation Loss: 0.382252\n",
      "Epoch: 83 \tTraining Loss: 0.065586 \tValidation Loss: 0.390026\n",
      "Epoch: 84 \tTraining Loss: 0.070314 \tValidation Loss: 0.353888\n",
      "Epoch: 85 \tTraining Loss: 0.067406 \tValidation Loss: 0.340479\n",
      "Epoch: 86 \tTraining Loss: 0.069520 \tValidation Loss: 0.397912\n",
      "Epoch: 87 \tTraining Loss: 0.068697 \tValidation Loss: 0.355197\n",
      "Epoch: 88 \tTraining Loss: 0.059697 \tValidation Loss: 0.342295\n",
      "Epoch: 89 \tTraining Loss: 0.061249 \tValidation Loss: 0.380108\n",
      "Epoch: 90 \tTraining Loss: 0.067145 \tValidation Loss: 0.381863\n",
      "Epoch: 91 \tTraining Loss: 0.063974 \tValidation Loss: 0.348345\n",
      "Epoch: 92 \tTraining Loss: 0.064392 \tValidation Loss: 0.338238\n",
      "Epoch: 93 \tTraining Loss: 0.071764 \tValidation Loss: 0.334062\n",
      "Epoch: 94 \tTraining Loss: 0.068621 \tValidation Loss: 0.364924\n",
      "Epoch: 95 \tTraining Loss: 0.066750 \tValidation Loss: 0.391157\n",
      "Epoch: 96 \tTraining Loss: 0.066186 \tValidation Loss: 0.362891\n",
      "Epoch: 97 \tTraining Loss: 0.066504 \tValidation Loss: 0.367646\n",
      "Epoch: 98 \tTraining Loss: 0.063963 \tValidation Loss: 0.354764\n",
      "Epoch: 99 \tTraining Loss: 0.064439 \tValidation Loss: 0.345742\n",
      "Epoch: 100 \tTraining Loss: 0.062269 \tValidation Loss: 0.348813\n"
     ]
    }
   ],
   "source": [
    "# number of epochs to train the model\n",
    "n_epochs = 100\n",
    "\n",
    "valid_loss_min = np.Inf # track change in validation loss\n",
    "\n",
    "loss_history_e = []\n",
    "loss_history_tr = []\n",
    "loss_history_va = []\n",
    "\n",
    "for epoch in range(1, n_epochs+1):\n",
    "  # keep track of training and validation loss\n",
    "  train_loss = 0.0\n",
    "  valid_loss = 0.0\n",
    "\n",
    "  ###################\n",
    "  # train the model #\n",
    "  ###################\n",
    "  ResNet18.train()\n",
    "  for batch_idx, (data, target) in enumerate(train_loader):\n",
    "    # move tensors to GPU if CUDA is available\n",
    "    if train_on_gpu:\n",
    "      data, target = data.cuda(), target.cuda()\n",
    "    # clear the gradients of all optimized variables\n",
    "    optimizer.zero_grad()\n",
    "    # forward pass: compute predicted outputs by passing inputs to the model\n",
    "    output = ResNet18(data)\n",
    "    # calculate the batch loss\n",
    "    loss = criterion(output, target)\n",
    "    # backward pass: compute gradient of the loss with respect to model parameters\n",
    "    loss.backward()\n",
    "    # perform a single optimization step (parameter update)\n",
    "    optimizer.step()\n",
    "    # update training loss\n",
    "    train_loss += loss.item()*data.size(0)\n",
    "\n",
    "  ######################\n",
    "  # validate the model #\n",
    "  ######################\n",
    "  ResNet18.eval()\n",
    "  for batch_idx, (data, target) in enumerate(valid_loader):\n",
    "    # move tensors to GPU if CUDA is available\n",
    "    if train_on_gpu:\n",
    "      data, target = data.cuda(), target.cuda()\n",
    "    # forward pass: compute predicted outputs by passing inputs to the model\n",
    "    output = ResNet18(data)\n",
    "    # calculate the batch loss\n",
    "    loss = criterion(output, target)\n",
    "    # update average validation loss\n",
    "    valid_loss += loss.item()*data.size(0)\n",
    "\n",
    "  # calculate average losses\n",
    "  train_loss = train_loss/len(train_loader.sampler)\n",
    "  valid_loss = valid_loss/len(valid_loader.sampler)\n",
    "\n",
    "  loss_history_e.append(epoch)\n",
    "  loss_history_tr.append(train_loss)\n",
    "  loss_history_va.append(valid_loss)\n",
    "  # print training/validation statistics\n",
    "  print('Epoch: {} \\tTraining Loss: {:.6f} \\tValidation Loss: {:.6f}'.format(\n",
    "      epoch, train_loss, valid_loss))\n",
    "\n",
    "  # save model if validation loss has decreased\n",
    "  if valid_loss <= valid_loss_min:\n",
    "    print('Validation loss decreased ({:.6f} --> {:.6f}).  Saving model ...'.format(\n",
    "    valid_loss_min,\n",
    "    valid_loss))\n",
    "    torch.save(ResNet18.state_dict(), '/kaggle/working/ResNet18.pt')\n",
    "    valid_loss_min = valid_loss"
   ]
  },
  {
   "cell_type": "markdown",
   "id": "235246e3",
   "metadata": {
    "id": "sLK2yvqzveuT",
    "papermill": {
     "duration": 0.015332,
     "end_time": "2024-04-13T06:05:44.062319",
     "exception": false,
     "start_time": "2024-04-13T06:05:44.046987",
     "status": "completed"
    },
    "tags": []
   },
   "source": [
    "Load the best model for testing"
   ]
  },
  {
   "cell_type": "code",
   "execution_count": 9,
   "id": "8e1e299a",
   "metadata": {
    "execution": {
     "iopub.execute_input": "2024-04-13T06:05:44.094657Z",
     "iopub.status.busy": "2024-04-13T06:05:44.094091Z",
     "iopub.status.idle": "2024-04-13T06:05:44.410523Z",
     "shell.execute_reply": "2024-04-13T06:05:44.409599Z"
    },
    "papermill": {
     "duration": 0.335191,
     "end_time": "2024-04-13T06:05:44.412868",
     "exception": false,
     "start_time": "2024-04-13T06:05:44.077677",
     "status": "completed"
    },
    "tags": []
   },
   "outputs": [
    {
     "data": {
      "text/plain": [
       "Text(0, 0.5, 'Loss')"
      ]
     },
     "execution_count": 9,
     "metadata": {},
     "output_type": "execute_result"
    },
    {
     "data": {
      "image/png": "[encoded data removed]",
      "text/plain": [
       "<Figure size 640x480 with 1 Axes>"
      ]
     },
     "metadata": {},
     "output_type": "display_data"
    }
   ],
   "source": [
    "#Plot loss over epochs\n",
    "plt.figure()\n",
    "plt.plot(loss_history_e, loss_history_tr, label=\"Training Loss\")\n",
    "plt.plot(loss_history_e, loss_history_va, label=\"Validation Loss\")\n",
    "plt.legend()\n",
    "plt.xlabel(\"Epochs\")\n",
    "plt.ylabel(\"Loss\")"
   ]
  },
  {
   "cell_type": "code",
   "execution_count": 10,
   "id": "e0d4f5b9",
   "metadata": {
    "execution": {
     "iopub.execute_input": "2024-04-13T06:05:44.448573Z",
     "iopub.status.busy": "2024-04-13T06:05:44.448170Z",
     "iopub.status.idle": "2024-04-13T06:05:44.479925Z",
     "shell.execute_reply": "2024-04-13T06:05:44.478711Z"
    },
    "id": "58f77369",
    "outputId": "e7d23aae-7bdc-4d46-917f-a62df23e886d",
    "papermill": {
     "duration": 0.051623,
     "end_time": "2024-04-13T06:05:44.482267",
     "exception": false,
     "start_time": "2024-04-13T06:05:44.430644",
     "status": "completed"
    },
    "tags": []
   },
   "outputs": [
    {
     "data": {
      "text/plain": [
       "<All keys matched successfully>"
      ]
     },
     "execution_count": 10,
     "metadata": {},
     "output_type": "execute_result"
    }
   ],
   "source": [
    "ResNet18.load_state_dict(torch.load('/kaggle/working/ResNet18.pt'))"
   ]
  },
  {
   "cell_type": "markdown",
   "id": "9b8bb78e",
   "metadata": {
    "id": "7Waws_juvhSN",
    "papermill": {
     "duration": 0.016919,
     "end_time": "2024-04-13T06:05:44.516264",
     "exception": false,
     "start_time": "2024-04-13T06:05:44.499345",
     "status": "completed"
    },
    "tags": []
   },
   "source": [
    "## Testing\n",
    "Use the test dataset to determine accuracy and test loss.<br>\n",
    "Determine test accuracy for each class"
   ]
  },
  {
   "cell_type": "code",
   "execution_count": 11,
   "id": "0a0bfc78",
   "metadata": {
    "execution": {
     "iopub.execute_input": "2024-04-13T06:05:44.549895Z",
     "iopub.status.busy": "2024-04-13T06:05:44.549603Z",
     "iopub.status.idle": "2024-04-13T06:05:49.258010Z",
     "shell.execute_reply": "2024-04-13T06:05:49.257031Z"
    },
    "id": "af5c4edc",
    "outputId": "b8dbf7df-7210-4d75-e754-022d6c1a6a4a",
    "papermill": {
     "duration": 4.727733,
     "end_time": "2024-04-13T06:05:49.260177",
     "exception": false,
     "start_time": "2024-04-13T06:05:44.532444",
     "status": "completed"
    },
    "tags": []
   },
   "outputs": [
    {
     "name": "stdout",
     "output_type": "stream",
     "text": [
      "Test Loss: 0.330070\n",
      "\n",
      "Test Accuracy of airplane: 89% (897/1000)\n",
      "Test Accuracy of automobile: 96% (966/1000)\n",
      "Test Accuracy of  bird: 88% (880/1000)\n",
      "Test Accuracy of   cat: 85% (857/1000)\n",
      "Test Accuracy of  deer: 94% (949/1000)\n",
      "Test Accuracy of   dog: 79% (792/1000)\n",
      "Test Accuracy of  frog: 95% (954/1000)\n",
      "Test Accuracy of horse: 93% (938/1000)\n",
      "Test Accuracy of  ship: 94% (949/1000)\n",
      "Test Accuracy of truck: 94% (946/1000)\n",
      "\n",
      "Test Accuracy (Overall): 91% (9128/10000)\n"
     ]
    }
   ],
   "source": [
    "# track classwise test loss\n",
    "test_loss = 0.0\n",
    "class_correct = list(0. for i in range(10))\n",
    "class_total = list(0. for i in range(10))\n",
    "\n",
    "ResNet18.eval()\n",
    "# iterate over test data\n",
    "for batch_idx, (data, target) in enumerate(test_loader):\n",
    "  # move tensors to GPU if CUDA is available\n",
    "  if train_on_gpu:\n",
    "    data, target = data.cuda(), target.cuda()\n",
    "  # forward pass: compute predicted outputs by passing inputs to the model\n",
    "  output = ResNet18(data)\n",
    "  # calculate the batch loss\n",
    "  loss = criterion(output, target)\n",
    "  # update test loss\n",
    "  test_loss += loss.item()*data.size(0)\n",
    "  # convert output probabilities to predicted class\n",
    "  _, pred = torch.max(output, 1)\n",
    "  # compare predictions to true label\n",
    "  correct_tensor = pred.eq(target.data.view_as(pred))\n",
    "  correct = np.squeeze(correct_tensor.numpy()) if not train_on_gpu else np.squeeze(correct_tensor.cpu().numpy())\n",
    "  # calculate test accuracy for each object class\n",
    "  for i in range(batch_size):\n",
    "    label = target.data[i]\n",
    "    class_correct[label] += correct[i].item()\n",
    "    class_total[label] += 1\n",
    "\n",
    "# average test loss\n",
    "test_loss = test_loss/len(test_loader.dataset)\n",
    "print('Test Loss: {:.6f}\\n'.format(test_loss))\n",
    "\n",
    "for i in range(10):\n",
    "  if class_total[i] > 0:\n",
    "    print('Test Accuracy of %5s: %2d%% (%2d/%2d)' % (\n",
    "        classes[i], 100 * class_correct[i] / class_total[i],\n",
    "        np.sum(class_correct[i]), np.sum(class_total[i])))\n",
    "  else:\n",
    "    print('Test Accuracy of %5s: N/A (no training examples)' % (classes[i]))\n",
    "\n",
    "print('\\nTest Accuracy (Overall): %2d%% (%2d/%2d)' % (\n",
    "    100. * np.sum(class_correct) / np.sum(class_total),\n",
    "    np.sum(class_correct), np.sum(class_total)))"
   ]
  },
  {
   "cell_type": "markdown",
   "id": "7c9249da",
   "metadata": {
    "id": "hXfh8w-rvuPX",
    "papermill": {
     "duration": 0.016577,
     "end_time": "2024-04-13T06:05:49.293702",
     "exception": false,
     "start_time": "2024-04-13T06:05:49.277125",
     "status": "completed"
    },
    "tags": []
   },
   "source": [
    "## Evaluation/Inference\n",
    "Use the actual competition test dataset to perform inference for the CSV file"
   ]
  },
  {
   "cell_type": "code",
   "execution_count": 12,
   "id": "224db058",
   "metadata": {
    "execution": {
     "iopub.execute_input": "2024-04-13T06:05:49.327604Z",
     "iopub.status.busy": "2024-04-13T06:05:49.327262Z",
     "iopub.status.idle": "2024-04-13T06:05:53.205737Z",
     "shell.execute_reply": "2024-04-13T06:05:53.204848Z"
    },
    "id": "QqN8edJ8v4Bm",
    "papermill": {
     "duration": 3.89769,
     "end_time": "2024-04-13T06:05:53.207760",
     "exception": false,
     "start_time": "2024-04-13T06:05:49.310070",
     "status": "completed"
    },
    "tags": []
   },
   "outputs": [
    {
     "name": "stdout",
     "output_type": "stream",
     "text": [
      "Results saved\n"
     ]
    }
   ],
   "source": [
    "#Track Image Id and prediction\n",
    "test_ids=[]\n",
    "test_labels=[]\n",
    "tst_lbl=[]\n",
    "ctr=0\n",
    "\n",
    "ResNet18.eval()\n",
    "# iterate over test data\n",
    "for batch_idx, (data, target) in enumerate(actual_test_loader):\n",
    "  # move tensors to GPU if CUDA is available\n",
    "  if train_on_gpu:\n",
    "    data, target = data.cuda(), target.cuda()\n",
    "  # forward pass: compute predicted outputs by passing inputs to the model\n",
    "  output = ResNet18(data)\n",
    "  # convert output probabilities to predicted class\n",
    "  _, pred = torch.max(output, 1)\n",
    "  test_labels.append(pred)\n",
    "\n",
    "#Reformat predictions to generate CSV output\n",
    "for i in test_labels:\n",
    "    test_ids.extend(list(range(ctr,ctr+20)))\n",
    "    ctr+=20\n",
    "    tst_lbl.extend(i.tolist())\n",
    "\n",
    "#CSV output\n",
    "df_data = []\n",
    "for i in test_ids:\n",
    "    df_data.append([i,tst_lbl[i]])\n",
    "df=pd.DataFrame(df_data,columns=[\"ID\",\"Labels\"])\n",
    "df.to_csv('/kaggle/working/result.csv',index=False)\n",
    "print('Results saved')"
   ]
  }
 ],
 "metadata": {
  "accelerator": "GPU",
  "colab": {
   "gpuType": "T4",
   "provenance": []
  },
  "kaggle": {
   "accelerator": "gpu",
   "dataSources": [
    {
     "databundleVersionId": 8112053,
     "sourceId": 73233,
     "sourceType": "competition"
    },
    {
     "datasetId": 4781333,
     "sourceId": 8097506,
     "sourceType": "datasetVersion"
    }
   ],
   "isGpuEnabled": true,
   "isInternetEnabled": true,
   "language": "python",
   "sourceType": "notebook"
  },
  "kernelspec": {
   "display_name": "Python 3",
   "name": "python3"
  },
  "language_info": {
   "codemirror_mode": {
    "name": "ipython",
    "version": 3
   },
   "file_extension": ".py",
   "mimetype": "text/x-python",
   "name": "python",
   "nbconvert_exporter": "python",
   "pygments_lexer": "ipython3",
   "version": "3.10.13"
  },
  "papermill": {
   "default_parameters": {},
   "duration": 4117.705723,
   "end_time": "2024-04-13T06:05:54.955843",
   "environment_variables": {},
   "exception": null,
   "input_path": "__notebook__.ipynb",
   "output_path": "__notebook__.ipynb",
   "parameters": {},
   "start_time": "2024-04-13T04:57:17.250120",
   "version": "2.5.0"
  }
 },
 "nbformat": 4,
 "nbformat_minor": 5
}
